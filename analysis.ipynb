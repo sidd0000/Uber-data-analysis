{
 "cells": [
  {
   "cell_type": "code",
   "execution_count": 1,
   "metadata": {},
   "outputs": [],
   "source": [
    "from pyspark.sql import SparkSession"
   ]
  },
  {
   "cell_type": "code",
   "execution_count": 2,
   "metadata": {},
   "outputs": [],
   "source": [
    "import matplotlib.pyplot as plt\n",
    "import numpy as np\n"
   ]
  },
  {
   "cell_type": "code",
   "execution_count": 3,
   "metadata": {},
   "outputs": [],
   "source": [
    "spark = SparkSession.builder.appName(\"Uber_ride_analysis\").config(\"spark.sql.legacy.timeParserPolicy\", \"LEGACY\").getOrCreate()\n"
   ]
  },
  {
   "cell_type": "code",
   "execution_count": 16,
   "metadata": {},
   "outputs": [],
   "source": [
    "df = spark.read.csv('Uber - 2016.csv', header = True, inferSchema= True)\n"
   ]
  },
  {
   "cell_type": "code",
   "execution_count": 17,
   "metadata": {},
   "outputs": [
    {
     "name": "stdout",
     "output_type": "stream",
     "text": [
      "+---------------+---------------+--------+-----------------+---------------+-----+---------------+\n",
      "|     START_DATE|       END_DATE|CATEGORY|            START|           STOP|MILES|        PURPOSE|\n",
      "+---------------+---------------+--------+-----------------+---------------+-----+---------------+\n",
      "| 1/1/2016 21:11| 1/1/2016 21:17|Business|      Fort Pierce|    Fort Pierce|  5.1| Meal/Entertain|\n",
      "|  1/2/2016 1:25|  1/2/2016 1:37|Business|      Fort Pierce|    Fort Pierce|  5.0|           NULL|\n",
      "| 1/2/2016 20:25| 1/2/2016 20:38|Business|      Fort Pierce|    Fort Pierce|  4.8|Errand/Supplies|\n",
      "| 1/5/2016 17:31| 1/5/2016 17:45|Business|      Fort Pierce|    Fort Pierce|  4.7|        Meeting|\n",
      "| 1/6/2016 14:42| 1/6/2016 15:49|Business|      Fort Pierce|West Palm Beach| 63.7| Customer Visit|\n",
      "| 1/6/2016 17:15| 1/6/2016 17:19|Business|  West Palm Beach|West Palm Beach|  4.3| Meal/Entertain|\n",
      "| 1/6/2016 17:30| 1/6/2016 17:35|Business|  West Palm Beach|     Palm Beach|  7.1|        Meeting|\n",
      "| 1/7/2016 13:27| 1/7/2016 13:33|Business|             Cary|           Cary|  0.8|        Meeting|\n",
      "| 1/10/2016 8:05| 1/10/2016 8:25|Business|             Cary|    Morrisville|  8.3|        Meeting|\n",
      "|1/10/2016 12:17|1/10/2016 12:44|Business|          Jamaica|       New York| 16.5| Customer Visit|\n",
      "|1/10/2016 15:08|1/10/2016 15:51|Business|         New York|         Queens| 10.8|        Meeting|\n",
      "|1/10/2016 18:18|1/10/2016 18:53|Business|         Elmhurst|       New York|  7.5|        Meeting|\n",
      "|1/10/2016 19:12|1/10/2016 19:32|Business|          Midtown|    East Harlem|  6.2|        Meeting|\n",
      "| 1/11/2016 8:55| 1/11/2016 9:21|Business|      East Harlem|          NoMad|  6.4| Temporary Site|\n",
      "|1/11/2016 11:56|1/11/2016 12:03|Business|Flatiron District|        Midtown|  1.6|Errand/Supplies|\n",
      "|1/11/2016 13:32|1/11/2016 13:46|Business|          Midtown|   Midtown East|  1.7| Meal/Entertain|\n",
      "|1/11/2016 14:30|1/11/2016 14:43|Business|     Midtown East|        Midtown|  1.9| Meal/Entertain|\n",
      "|1/12/2016 12:33|1/12/2016 12:49|Business|          Midtown|  Hudson Square|  1.9| Meal/Entertain|\n",
      "|1/12/2016 12:53|1/12/2016 13:09|Business|    Hudson Square|Lower Manhattan|  4.0| Meal/Entertain|\n",
      "|1/12/2016 14:42|1/12/2016 14:56|Business|  Lower Manhattan|  Hudson Square|  1.8|Errand/Supplies|\n",
      "+---------------+---------------+--------+-----------------+---------------+-----+---------------+\n",
      "only showing top 20 rows\n",
      "\n"
     ]
    }
   ],
   "source": [
    "df.show()"
   ]
  },
  {
   "cell_type": "code",
   "execution_count": 7,
   "metadata": {},
   "outputs": [],
   "source": [
    "uber_df = df.na.drop()"
   ]
  },
  {
   "cell_type": "code",
   "execution_count": 8,
   "metadata": {},
   "outputs": [
    {
     "name": "stdout",
     "output_type": "stream",
     "text": [
      "+-------+--------------+--------------+--------+-------------+-------------+------------------+--------------+\n",
      "|summary|    START_DATE|      END_DATE|CATEGORY|        START|         STOP|             MILES|       PURPOSE|\n",
      "+-------+--------------+--------------+--------+-------------+-------------+------------------+--------------+\n",
      "|  count|           653|           653|     653|          653|          653|               653|           653|\n",
      "|   mean|          NULL|          NULL|    NULL|         NULL|         NULL|11.196324655436444|          NULL|\n",
      "| stddev|          NULL|          NULL|    NULL|         NULL|         NULL|22.986428750819968|          NULL|\n",
      "|    min|1/1/2016 21:11|1/1/2016 21:17|Business|         Apex|        Agnew|               0.5|Airport/Travel|\n",
      "|    25%|          NULL|          NULL|    NULL|         NULL|         NULL|               3.2|          NULL|\n",
      "|    50%|          NULL|          NULL|    NULL|         NULL|         NULL|               6.4|          NULL|\n",
      "|    75%|          NULL|          NULL|    NULL|         NULL|         NULL|              10.4|          NULL|\n",
      "|    max|8/8/2016 23:28|8/8/2016 23:37|Personal|Winston Salem|Winston Salem|             310.3|Temporary Site|\n",
      "+-------+--------------+--------------+--------+-------------+-------------+------------------+--------------+\n",
      "\n"
     ]
    }
   ],
   "source": [
    "uber_df.summary().show()"
   ]
  },
  {
   "cell_type": "code",
   "execution_count": 9,
   "metadata": {},
   "outputs": [
    {
     "name": "stdout",
     "output_type": "stream",
     "text": [
      "root\n",
      " |-- START_DATE: string (nullable = true)\n",
      " |-- END_DATE: string (nullable = true)\n",
      " |-- CATEGORY: string (nullable = true)\n",
      " |-- START: string (nullable = true)\n",
      " |-- STOP: string (nullable = true)\n",
      " |-- MILES: double (nullable = true)\n",
      " |-- PURPOSE: string (nullable = true)\n",
      "\n"
     ]
    }
   ],
   "source": [
    "uber_df.printSchema()"
   ]
  },
  {
   "cell_type": "code",
   "execution_count": 14,
   "metadata": {},
   "outputs": [],
   "source": [
    "from pyspark.sql.functions import to_date, when , col, to_timestamp"
   ]
  },
  {
   "cell_type": "code",
   "execution_count": 18,
   "metadata": {},
   "outputs": [
    {
     "name": "stdout",
     "output_type": "stream",
     "text": [
      "+-------------------+---------------+----------+-------------------+-------------+--------+\n",
      "|START_DATE         |START_DATE_ONLY|START_HOUR|END_DATE           |END_DATE_ONLY|END_HOUR|\n",
      "+-------------------+---------------+----------+-------------------+-------------+--------+\n",
      "|2016-01-01 21:11:00|2016-01-01     |21        |2016-01-01 21:17:00|2016-01-01   |21      |\n",
      "|2016-01-02 20:25:00|2016-01-02     |20        |2016-01-02 20:38:00|2016-01-02   |20      |\n",
      "|2016-01-05 17:31:00|2016-01-05     |17        |2016-01-05 17:45:00|2016-01-05   |17      |\n",
      "|2016-01-06 14:42:00|2016-01-06     |14        |2016-01-06 15:49:00|2016-01-06   |15      |\n",
      "|2016-01-06 17:15:00|2016-01-06     |17        |2016-01-06 17:19:00|2016-01-06   |17      |\n",
      "|2016-01-06 17:30:00|2016-01-06     |17        |2016-01-06 17:35:00|2016-01-06   |17      |\n",
      "|2016-01-07 13:27:00|2016-01-07     |13        |2016-01-07 13:33:00|2016-01-07   |13      |\n",
      "|2016-01-10 08:05:00|2016-01-10     |8         |2016-01-10 08:25:00|2016-01-10   |8       |\n",
      "|2016-01-10 12:17:00|2016-01-10     |12        |2016-01-10 12:44:00|2016-01-10   |12      |\n",
      "|2016-01-10 15:08:00|2016-01-10     |15        |2016-01-10 15:51:00|2016-01-10   |15      |\n",
      "|2016-01-10 18:18:00|2016-01-10     |18        |2016-01-10 18:53:00|2016-01-10   |18      |\n",
      "|2016-01-10 19:12:00|2016-01-10     |19        |2016-01-10 19:32:00|2016-01-10   |19      |\n",
      "|2016-01-11 08:55:00|2016-01-11     |8         |2016-01-11 09:21:00|2016-01-11   |9       |\n",
      "|2016-01-11 11:56:00|2016-01-11     |11        |2016-01-11 12:03:00|2016-01-11   |12      |\n",
      "|2016-01-11 13:32:00|2016-01-11     |13        |2016-01-11 13:46:00|2016-01-11   |13      |\n",
      "|2016-01-11 14:30:00|2016-01-11     |14        |2016-01-11 14:43:00|2016-01-11   |14      |\n",
      "|2016-01-12 12:33:00|2016-01-12     |12        |2016-01-12 12:49:00|2016-01-12   |12      |\n",
      "|2016-01-12 12:53:00|2016-01-12     |12        |2016-01-12 13:09:00|2016-01-12   |13      |\n",
      "|2016-01-12 14:42:00|2016-01-12     |14        |2016-01-12 14:56:00|2016-01-12   |14      |\n",
      "|2016-01-12 15:13:00|2016-01-12     |15        |2016-01-12 15:28:00|2016-01-12   |15      |\n",
      "+-------------------+---------------+----------+-------------------+-------------+--------+\n",
      "only showing top 20 rows\n",
      "\n"
     ]
    }
   ],
   "source": [
    "from pyspark.sql.functions import to_timestamp, hour, date_format\n",
    "\n",
    "# Assuming your DataFrame is named uber_df\n",
    "# Convert 'START_DATE' and 'END_DATE' columns to timestamp format\n",
    "uber_df = uber_df.withColumn(\"START_DATE\", to_timestamp(\"START_DATE\", \"M/d/yyyy HH:mm\"))\n",
    "uber_df = uber_df.withColumn(\"END_DATE\", to_timestamp(\"END_DATE\", \"M/d/yyyy HH:mm\"))\n",
    "\n",
    "# Extract date (YYYY-MM-DD) and hour (HH)\n",
    "uber_df = uber_df.withColumn(\"START_DATE_ONLY\", date_format(\"START_DATE\", \"yyyy-MM-dd\"))\n",
    "uber_df = uber_df.withColumn(\"START_HOUR\", hour(\"START_DATE\"))\n",
    "\n",
    "uber_df = uber_df.withColumn(\"END_DATE_ONLY\", date_format(\"END_DATE\", \"yyyy-MM-dd\"))\n",
    "uber_df = uber_df.withColumn(\"END_HOUR\", hour(\"END_DATE\"))\n",
    "\n",
    "# Show the result\n",
    "uber_df.select(\"START_DATE\", \"START_DATE_ONLY\", \"START_HOUR\", \"END_DATE\", \"END_DATE_ONLY\", \"END_HOUR\").show(truncate=False)\n"
   ]
  },
  {
   "cell_type": "code",
   "execution_count": 19,
   "metadata": {},
   "outputs": [
    {
     "name": "stdout",
     "output_type": "stream",
     "text": [
      "root\n",
      " |-- START_DATE: timestamp (nullable = true)\n",
      " |-- END_DATE: timestamp (nullable = true)\n",
      " |-- CATEGORY: string (nullable = true)\n",
      " |-- START: string (nullable = true)\n",
      " |-- STOP: string (nullable = true)\n",
      " |-- MILES: double (nullable = true)\n",
      " |-- PURPOSE: string (nullable = true)\n",
      " |-- START_DATE_ONLY: string (nullable = true)\n",
      " |-- START_HOUR: integer (nullable = true)\n",
      " |-- END_DATE_ONLY: string (nullable = true)\n",
      " |-- END_HOUR: integer (nullable = true)\n",
      "\n"
     ]
    }
   ],
   "source": [
    "uber_df.printSchema()\n"
   ]
  },
  {
   "cell_type": "code",
   "execution_count": 20,
   "metadata": {},
   "outputs": [],
   "source": [
    "uber_df = uber_df.withColumn(\"START_DATE_ONLY\", to_date(\"START_DATE_ONLY\"))\n",
    "uber_df = uber_df.withColumn(\"END_DATE_ONLY\", to_date(\"END_DATE_ONLY\"))"
   ]
  },
  {
   "cell_type": "code",
   "execution_count": 21,
   "metadata": {},
   "outputs": [
    {
     "name": "stdout",
     "output_type": "stream",
     "text": [
      "root\n",
      " |-- START_DATE: timestamp (nullable = true)\n",
      " |-- END_DATE: timestamp (nullable = true)\n",
      " |-- CATEGORY: string (nullable = true)\n",
      " |-- START: string (nullable = true)\n",
      " |-- STOP: string (nullable = true)\n",
      " |-- MILES: double (nullable = true)\n",
      " |-- PURPOSE: string (nullable = true)\n",
      " |-- START_DATE_ONLY: date (nullable = true)\n",
      " |-- START_HOUR: integer (nullable = true)\n",
      " |-- END_DATE_ONLY: date (nullable = true)\n",
      " |-- END_HOUR: integer (nullable = true)\n",
      "\n"
     ]
    }
   ],
   "source": [
    "uber_df.printSchema()"
   ]
  },
  {
   "cell_type": "code",
   "execution_count": 22,
   "metadata": {},
   "outputs": [
    {
     "name": "stdout",
     "output_type": "stream",
     "text": [
      "root\n",
      " |-- START_DATE: timestamp (nullable = true)\n",
      " |-- END_DATE: timestamp (nullable = true)\n",
      " |-- CATEGORY: string (nullable = true)\n",
      " |-- START: string (nullable = true)\n",
      " |-- STOP: string (nullable = true)\n",
      " |-- MILES: double (nullable = true)\n",
      " |-- PURPOSE: string (nullable = true)\n",
      " |-- START_DATE_ONLY: date (nullable = true)\n",
      " |-- START_HOUR: integer (nullable = true)\n",
      " |-- END_DATE_ONLY: date (nullable = true)\n",
      " |-- END_HOUR: integer (nullable = true)\n",
      "\n"
     ]
    }
   ],
   "source": [
    "uber_df.printSchema()\n"
   ]
  },
  {
   "cell_type": "code",
   "execution_count": 23,
   "metadata": {},
   "outputs": [
    {
     "data": {
      "text/plain": [
       "['START_DATE',\n",
       " 'END_DATE',\n",
       " 'CATEGORY',\n",
       " 'START',\n",
       " 'STOP',\n",
       " 'MILES',\n",
       " 'PURPOSE',\n",
       " 'START_DATE_ONLY',\n",
       " 'START_HOUR',\n",
       " 'END_DATE_ONLY',\n",
       " 'END_HOUR']"
      ]
     },
     "execution_count": 23,
     "metadata": {},
     "output_type": "execute_result"
    }
   ],
   "source": [
    "uber_df.columns"
   ]
  },
  {
   "cell_type": "code",
   "execution_count": 24,
   "metadata": {},
   "outputs": [
    {
     "name": "stdout",
     "output_type": "stream",
     "text": [
      "+-------------------+-------------------+--------+-----------------+---------------+-----+---------------+---------------+----------+-------------+--------+\n",
      "|         start_date|           end_date|category|            start|           stop|miles|        purpose|start_date_only|start_hour|end_date_only|end_hour|\n",
      "+-------------------+-------------------+--------+-----------------+---------------+-----+---------------+---------------+----------+-------------+--------+\n",
      "|2016-01-01 21:11:00|2016-01-01 21:17:00|Business|      Fort Pierce|    Fort Pierce|  5.1| Meal/Entertain|     2016-01-01|        21|   2016-01-01|      21|\n",
      "|2016-01-02 20:25:00|2016-01-02 20:38:00|Business|      Fort Pierce|    Fort Pierce|  4.8|Errand/Supplies|     2016-01-02|        20|   2016-01-02|      20|\n",
      "|2016-01-05 17:31:00|2016-01-05 17:45:00|Business|      Fort Pierce|    Fort Pierce|  4.7|        Meeting|     2016-01-05|        17|   2016-01-05|      17|\n",
      "|2016-01-06 14:42:00|2016-01-06 15:49:00|Business|      Fort Pierce|West Palm Beach| 63.7| Customer Visit|     2016-01-06|        14|   2016-01-06|      15|\n",
      "|2016-01-06 17:15:00|2016-01-06 17:19:00|Business|  West Palm Beach|West Palm Beach|  4.3| Meal/Entertain|     2016-01-06|        17|   2016-01-06|      17|\n",
      "|2016-01-06 17:30:00|2016-01-06 17:35:00|Business|  West Palm Beach|     Palm Beach|  7.1|        Meeting|     2016-01-06|        17|   2016-01-06|      17|\n",
      "|2016-01-07 13:27:00|2016-01-07 13:33:00|Business|             Cary|           Cary|  0.8|        Meeting|     2016-01-07|        13|   2016-01-07|      13|\n",
      "|2016-01-10 08:05:00|2016-01-10 08:25:00|Business|             Cary|    Morrisville|  8.3|        Meeting|     2016-01-10|         8|   2016-01-10|       8|\n",
      "|2016-01-10 12:17:00|2016-01-10 12:44:00|Business|          Jamaica|       New York| 16.5| Customer Visit|     2016-01-10|        12|   2016-01-10|      12|\n",
      "|2016-01-10 15:08:00|2016-01-10 15:51:00|Business|         New York|         Queens| 10.8|        Meeting|     2016-01-10|        15|   2016-01-10|      15|\n",
      "|2016-01-10 18:18:00|2016-01-10 18:53:00|Business|         Elmhurst|       New York|  7.5|        Meeting|     2016-01-10|        18|   2016-01-10|      18|\n",
      "|2016-01-10 19:12:00|2016-01-10 19:32:00|Business|          Midtown|    East Harlem|  6.2|        Meeting|     2016-01-10|        19|   2016-01-10|      19|\n",
      "|2016-01-11 08:55:00|2016-01-11 09:21:00|Business|      East Harlem|          NoMad|  6.4| Temporary Site|     2016-01-11|         8|   2016-01-11|       9|\n",
      "|2016-01-11 11:56:00|2016-01-11 12:03:00|Business|Flatiron District|        Midtown|  1.6|Errand/Supplies|     2016-01-11|        11|   2016-01-11|      12|\n",
      "|2016-01-11 13:32:00|2016-01-11 13:46:00|Business|          Midtown|   Midtown East|  1.7| Meal/Entertain|     2016-01-11|        13|   2016-01-11|      13|\n",
      "|2016-01-11 14:30:00|2016-01-11 14:43:00|Business|     Midtown East|        Midtown|  1.9| Meal/Entertain|     2016-01-11|        14|   2016-01-11|      14|\n",
      "|2016-01-12 12:33:00|2016-01-12 12:49:00|Business|          Midtown|  Hudson Square|  1.9| Meal/Entertain|     2016-01-12|        12|   2016-01-12|      12|\n",
      "|2016-01-12 12:53:00|2016-01-12 13:09:00|Business|    Hudson Square|Lower Manhattan|  4.0| Meal/Entertain|     2016-01-12|        12|   2016-01-12|      13|\n",
      "|2016-01-12 14:42:00|2016-01-12 14:56:00|Business|  Lower Manhattan|  Hudson Square|  1.8|Errand/Supplies|     2016-01-12|        14|   2016-01-12|      14|\n",
      "|2016-01-12 15:13:00|2016-01-12 15:28:00|Business|    Hudson Square| Hell's Kitchen|  2.4| Customer Visit|     2016-01-12|        15|   2016-01-12|      15|\n",
      "+-------------------+-------------------+--------+-----------------+---------------+-----+---------------+---------------+----------+-------------+--------+\n",
      "only showing top 20 rows\n",
      "\n"
     ]
    }
   ],
   "source": [
    "uber_df = uber_df.selectExpr(\"START_DATE as start_date\", \"END_DATE as end_date\", \"CATEGORY as category\", \"START as start\", \"STOP as stop\", \"MILES as miles\", \"PURPOSE as purpose\", \"START_DATE_ONLY as start_date_only\", \"START_HOUR as start_hour\", \"END_DATE_ONLY as end_date_only\", \"END_HOUR as end_hour\")\n",
    "uber_df.show()"
   ]
  },
  {
   "cell_type": "code",
   "execution_count": null,
   "metadata": {},
   "outputs": [
    {
     "name": "stdout",
     "output_type": "stream",
     "text": [
      "Column: start_date\n",
      "0\n",
      "Column: end_date\n",
      "0\n",
      "Column: category\n",
      "0\n",
      "Column: start\n",
      "0\n",
      "Column: stop\n",
      "0\n",
      "Column: miles\n",
      "0\n",
      "Column: purpose\n",
      "0\n"
     ]
    }
   ],
   "source": []
  },
  {
   "cell_type": "code",
   "execution_count": 21,
   "metadata": {},
   "outputs": [],
   "source": [
    "from pyspark.sql.functions import hour, when\n",
    "uber_df = uber_df.withColumn(\"Time_label\", when((hour('START_DATE') >= 5) & (hour('START_DATE') < 12), \"morning\")\n",
    "                            .when((hour('START_DATE') >= 12) & (hour('START_DATE') < 17), \"afternoon\")\n",
    "                            .when((hour('START_DATE') >= 17) & (hour('START_DATE') < 20), \"evening\").otherwise(\"night\"))"
   ]
  },
  {
   "cell_type": "code",
   "execution_count": 22,
   "metadata": {},
   "outputs": [],
   "source": [
    "uber_df = uber_df.withColumn(\"fare\", uber_df[\"MILES\"] * 2.5)"
   ]
  },
  {
   "cell_type": "code",
   "execution_count": 23,
   "metadata": {},
   "outputs": [],
   "source": [
    "from pyspark.sql.functions import date_format\n",
    "\n",
    "uber_df = uber_df.withColumn(\"month\", date_format(\"start_date\", \"MMMM\"))\n",
    "\n",
    "uber_df = uber_df.withColumn(\"day\", date_format(\"start_date\", \"EEEE\"))\n"
   ]
  },
  {
   "cell_type": "code",
   "execution_count": 24,
   "metadata": {},
   "outputs": [
    {
     "name": "stdout",
     "output_type": "stream",
     "text": [
      "+-------------------+-------------------+--------+-----------------+---------------+-----+---------------+----------+------+-------+---------+\n",
      "|         start_date|           end_date|category|            start|           stop|miles|        purpose|Time_label|  fare|  month|      day|\n",
      "+-------------------+-------------------+--------+-----------------+---------------+-----+---------------+----------+------+-------+---------+\n",
      "|2016-01-01 21:11:00|2016-01-01 21:17:00|Business|      Fort Pierce|    Fort Pierce|  5.1| Meal/Entertain|     night| 12.75|January|   Friday|\n",
      "|2016-01-02 20:25:00|2016-01-02 20:38:00|Business|      Fort Pierce|    Fort Pierce|  4.8|Errand/Supplies|     night|  12.0|January| Saturday|\n",
      "|2016-01-05 17:31:00|2016-01-05 17:45:00|Business|      Fort Pierce|    Fort Pierce|  4.7|        Meeting|   evening| 11.75|January|  Tuesday|\n",
      "|2016-01-06 14:42:00|2016-01-06 15:49:00|Business|      Fort Pierce|West Palm Beach| 63.7| Customer Visit| afternoon|159.25|January|Wednesday|\n",
      "|2016-01-06 17:15:00|2016-01-06 17:19:00|Business|  West Palm Beach|West Palm Beach|  4.3| Meal/Entertain|   evening| 10.75|January|Wednesday|\n",
      "|2016-01-06 17:30:00|2016-01-06 17:35:00|Business|  West Palm Beach|     Palm Beach|  7.1|        Meeting|   evening| 17.75|January|Wednesday|\n",
      "|2016-01-07 13:27:00|2016-01-07 13:33:00|Business|             Cary|           Cary|  0.8|        Meeting| afternoon|   2.0|January| Thursday|\n",
      "|2016-01-10 08:05:00|2016-01-10 08:25:00|Business|             Cary|    Morrisville|  8.3|        Meeting|   morning| 20.75|January|   Sunday|\n",
      "|2016-01-10 12:17:00|2016-01-10 12:44:00|Business|          Jamaica|       New York| 16.5| Customer Visit| afternoon| 41.25|January|   Sunday|\n",
      "|2016-01-10 15:08:00|2016-01-10 15:51:00|Business|         New York|         Queens| 10.8|        Meeting| afternoon|  27.0|January|   Sunday|\n",
      "|2016-01-10 18:18:00|2016-01-10 18:53:00|Business|         Elmhurst|       New York|  7.5|        Meeting|   evening| 18.75|January|   Sunday|\n",
      "|2016-01-10 19:12:00|2016-01-10 19:32:00|Business|          Midtown|    East Harlem|  6.2|        Meeting|   evening|  15.5|January|   Sunday|\n",
      "|2016-01-11 08:55:00|2016-01-11 09:21:00|Business|      East Harlem|          NoMad|  6.4| Temporary Site|   morning|  16.0|January|   Monday|\n",
      "|2016-01-11 11:56:00|2016-01-11 12:03:00|Business|Flatiron District|        Midtown|  1.6|Errand/Supplies|   morning|   4.0|January|   Monday|\n",
      "|2016-01-11 13:32:00|2016-01-11 13:46:00|Business|          Midtown|   Midtown East|  1.7| Meal/Entertain| afternoon|  4.25|January|   Monday|\n",
      "|2016-01-11 14:30:00|2016-01-11 14:43:00|Business|     Midtown East|        Midtown|  1.9| Meal/Entertain| afternoon|  4.75|January|   Monday|\n",
      "|2016-01-12 12:33:00|2016-01-12 12:49:00|Business|          Midtown|  Hudson Square|  1.9| Meal/Entertain| afternoon|  4.75|January|  Tuesday|\n",
      "|2016-01-12 12:53:00|2016-01-12 13:09:00|Business|    Hudson Square|Lower Manhattan|  4.0| Meal/Entertain| afternoon|  10.0|January|  Tuesday|\n",
      "|2016-01-12 14:42:00|2016-01-12 14:56:00|Business|  Lower Manhattan|  Hudson Square|  1.8|Errand/Supplies| afternoon|   4.5|January|  Tuesday|\n",
      "|2016-01-12 15:13:00|2016-01-12 15:28:00|Business|    Hudson Square| Hell's Kitchen|  2.4| Customer Visit| afternoon|   6.0|January|  Tuesday|\n",
      "+-------------------+-------------------+--------+-----------------+---------------+-----+---------------+----------+------+-------+---------+\n",
      "only showing top 20 rows\n",
      "\n"
     ]
    }
   ],
   "source": [
    "uber_df.show()"
   ]
  },
  {
   "cell_type": "code",
   "execution_count": 25,
   "metadata": {},
   "outputs": [],
   "source": [
    "import seaborn as sns\n",
    "import matplotlib.pyplot as plt\n",
    "import pandas as pd\n",
    "import plotly.express as px\n",
    " "
   ]
  },
  {
   "cell_type": "code",
   "execution_count": 26,
   "metadata": {},
   "outputs": [
    {
     "name": "stdout",
     "output_type": "stream",
     "text": [
      "Requirement already satisfied: disutils in c:\\users\\mohak singh\\desktop\\desktop main\\projects\\uber_data_analysis\\.venv\\lib\\site-packages (1.4.32.post2)\n",
      "Requirement already satisfied: aiohttp in c:\\users\\mohak singh\\desktop\\desktop main\\projects\\uber_data_analysis\\.venv\\lib\\site-packages (from disutils) (3.11.2)\n",
      "Requirement already satisfied: asyncio in c:\\users\\mohak singh\\desktop\\desktop main\\projects\\uber_data_analysis\\.venv\\lib\\site-packages (from disutils) (3.4.3)\n",
      "Requirement already satisfied: aiohappyeyeballs>=2.3.0 in c:\\users\\mohak singh\\desktop\\desktop main\\projects\\uber_data_analysis\\.venv\\lib\\site-packages (from aiohttp->disutils) (2.4.3)\n",
      "Requirement already satisfied: aiosignal>=1.1.2 in c:\\users\\mohak singh\\desktop\\desktop main\\projects\\uber_data_analysis\\.venv\\lib\\site-packages (from aiohttp->disutils) (1.3.1)\n",
      "Requirement already satisfied: attrs>=17.3.0 in c:\\users\\mohak singh\\desktop\\desktop main\\projects\\uber_data_analysis\\.venv\\lib\\site-packages (from aiohttp->disutils) (24.2.0)\n",
      "Requirement already satisfied: frozenlist>=1.1.1 in c:\\users\\mohak singh\\desktop\\desktop main\\projects\\uber_data_analysis\\.venv\\lib\\site-packages (from aiohttp->disutils) (1.5.0)\n",
      "Requirement already satisfied: multidict<7.0,>=4.5 in c:\\users\\mohak singh\\desktop\\desktop main\\projects\\uber_data_analysis\\.venv\\lib\\site-packages (from aiohttp->disutils) (6.1.0)\n",
      "Requirement already satisfied: propcache>=0.2.0 in c:\\users\\mohak singh\\desktop\\desktop main\\projects\\uber_data_analysis\\.venv\\lib\\site-packages (from aiohttp->disutils) (0.2.0)\n",
      "Requirement already satisfied: yarl<2.0,>=1.17.0 in c:\\users\\mohak singh\\desktop\\desktop main\\projects\\uber_data_analysis\\.venv\\lib\\site-packages (from aiohttp->disutils) (1.17.2)\n",
      "Requirement already satisfied: idna>=2.0 in c:\\users\\mohak singh\\desktop\\desktop main\\projects\\uber_data_analysis\\.venv\\lib\\site-packages (from yarl<2.0,>=1.17.0->aiohttp->disutils) (3.10)\n"
     ]
    },
    {
     "name": "stderr",
     "output_type": "stream",
     "text": [
      "\n",
      "[notice] A new release of pip is available: 24.2 -> 24.3.1\n",
      "[notice] To update, run: python.exe -m pip install --upgrade pip\n"
     ]
    }
   ],
   "source": [
    "!pip install disutils"
   ]
  },
  {
   "cell_type": "code",
   "execution_count": 27,
   "metadata": {},
   "outputs": [
    {
     "name": "stdout",
     "output_type": "stream",
     "text": [
      "c:\\Users\\Mohak Singh\\Desktop\\Desktop Main\\Projects\\Uber_data_analysis\\.venv\\Scripts\\python.exe\n",
      "C:\\Users\\Mohak Singh\\AppData\\Local\\Programs\\Python\\Python312\\python.exe\n",
      "C:\\Users\\Mohak Singh\\AppData\\Local\\Microsoft\\WindowsApps\\python.exe\n"
     ]
    },
    {
     "name": "stderr",
     "output_type": "stream",
     "text": [
      "INFO: Could not find \"#\".\n",
      "INFO: Could not find \"For\".\n",
      "INFO: Could not find \"Windows\".\n"
     ]
    }
   ],
   "source": [
    "!where python  # For Windows\n"
   ]
  },
  {
   "cell_type": "code",
   "execution_count": 28,
   "metadata": {},
   "outputs": [],
   "source": [
    "data = uber_df.toPandas()\n"
   ]
  },
  {
   "cell_type": "code",
   "execution_count": 29,
   "metadata": {},
   "outputs": [
    {
     "data": {
      "image/png": "[encoded data removed]",
      "text/plain": [
       "<Figure size 640x480 with 1 Axes>"
      ]
     },
     "metadata": {},
     "output_type": "display_data"
    }
   ],
   "source": [
    "sns.countplot(x=data[\"category\"])\n",
    "plt.title(\"Value Counts of Feature: CATEGORY\")\n",
    "plt.xticks(rotation=45)\n",
    "plt.title(\"Value Counts of Feature: Category\", fontsize=18, weight='bold', color='white')\n",
    "plt.xlabel(\"Category\", fontsize=14, weight='bold', color='white')\n",
    "plt.ylabel(\"Count\", fontsize=14, weight='bold', color='white')\n",
    "\n",
    "plt.xticks(rotation=45, ha='right', fontsize=12, color='white')\n",
    "plt.yticks(fontsize=12, color='white')\n",
    "\n",
    "plt.grid(True, linestyle='--', color='gray', alpha=0.5) \n",
    "plt.tight_layout()\n",
    "\n",
    "plt.show()\n"
   ]
  },
  {
   "cell_type": "code",
   "execution_count": 30,
   "metadata": {},
   "outputs": [
    {
     "name": "stderr",
     "output_type": "stream",
     "text": [
      "C:\\Users\\Mohak Singh\\AppData\\Local\\Temp\\ipykernel_22400\\480466687.py:7: FutureWarning: \n",
      "\n",
      "Passing `palette` without assigning `hue` is deprecated and will be removed in v0.14.0. Assign the `x` variable to `hue` and set `legend=False` for the same effect.\n",
      "\n",
      "  sns.countplot(x=data[\"purpose\"], palette=\"viridis\")\n"
     ]
    },
    {
     "data": {
      "image/png": "[encoded data removed]",
      "text/plain": [
       "<Figure size 1000x600 with 1 Axes>"
      ]
     },
     "metadata": {},
     "output_type": "display_data"
    }
   ],
   "source": [
    "import seaborn as sns\n",
    "import matplotlib.pyplot as plt\n",
    "\n",
    "sns.set(style=\"darkgrid\", palette=\"muted\", rc={\"axes.facecolor\": \"#1e1e1e\", \"figure.facecolor\": \"#1e1e1e\"})\n",
    "\n",
    "plt.figure(figsize=(10, 6))\n",
    "sns.countplot(x=data[\"purpose\"], palette=\"viridis\") \n",
    "\n",
    "plt.title(\"Value Counts of Feature: PURPOSE\", fontsize=18, weight='bold', color='white')\n",
    "plt.xlabel(\"Purpose\", fontsize=14, weight='bold', color='white')\n",
    "plt.ylabel(\"Count\", fontsize=14, weight='bold', color='white')\n",
    "\n",
    "plt.xticks(rotation=45, ha='right', fontsize=12, color='white')\n",
    "plt.yticks(fontsize=12, color='white')\n",
    "\n",
    "plt.grid(True, linestyle='--', color='gray', alpha=0.5) \n",
    "plt.tight_layout()\n",
    "\n",
    "plt.show()\n"
   ]
  },
  {
   "cell_type": "code",
   "execution_count": 31,
   "metadata": {},
   "outputs": [
    {
     "name": "stderr",
     "output_type": "stream",
     "text": [
      "C:\\Users\\Mohak Singh\\AppData\\Local\\Temp\\ipykernel_22400\\2864141125.py:1: FutureWarning: \n",
      "\n",
      "Passing `palette` without assigning `hue` is deprecated and will be removed in v0.14.0. Assign the `x` variable to `hue` and set `legend=False` for the same effect.\n",
      "\n",
      "  sns.countplot(x = data['day'], palette='viridis')\n"
     ]
    },
    {
     "data": {
      "image/png": "[encoded data removed]",
      "text/plain": [
       "<Figure size 640x480 with 1 Axes>"
      ]
     },
     "metadata": {},
     "output_type": "display_data"
    }
   ],
   "source": [
    "sns.countplot(x = data['day'], palette='viridis')\n",
    "plt.title(\"Value Counts of Feature: DAY\")\n",
    "plt.xticks(rotation=45, color = 'white')\n",
    "plt.yticks(color = 'white')\n",
    "plt.title(\"Value Counts of Feature: Day\", fontsize=18, weight='bold', color='white')\n",
    "plt.xlabel(\"Day\", fontsize=14, weight='bold', color='white')\n",
    "plt.ylabel(\"Count\", fontsize=14, weight='bold', color='white')\n",
    "plt.show()"
   ]
  },
  {
   "cell_type": "code",
   "execution_count": 32,
   "metadata": {},
   "outputs": [
    {
     "name": "stderr",
     "output_type": "stream",
     "text": [
      "C:\\Users\\Mohak Singh\\AppData\\Local\\Temp\\ipykernel_22400\\3107251311.py:1: FutureWarning: \n",
      "\n",
      "Passing `palette` without assigning `hue` is deprecated and will be removed in v0.14.0. Assign the `x` variable to `hue` and set `legend=False` for the same effect.\n",
      "\n",
      "  sns.countplot(x = data['month'], palette='viridis')\n"
     ]
    },
    {
     "data": {
      "image/png": "[encoded data removed]",
      "text/plain": [
       "<Figure size 640x480 with 1 Axes>"
      ]
     },
     "metadata": {},
     "output_type": "display_data"
    }
   ],
   "source": [
    "sns.countplot(x = data['month'], palette='viridis')\n",
    "plt.title(\"Number of travelers month wise\")\n",
    "plt.xticks(rotation=45, color = 'white')\n",
    "plt.yticks(color = 'white')\n",
    "plt.title(\"Value Counts of Feature: Month\", fontsize=18, weight='bold', color='white')\n",
    "plt.xlabel(\"Month\", fontsize=14, weight='bold', color='white')\n",
    "plt.ylabel(\"Count\", fontsize=14, weight='bold', color='white')\n",
    "plt.show()\n"
   ]
  },
  {
   "cell_type": "code",
   "execution_count": 33,
   "metadata": {},
   "outputs": [
    {
     "name": "stderr",
     "output_type": "stream",
     "text": [
      "C:\\Users\\Mohak Singh\\AppData\\Local\\Temp\\ipykernel_22400\\1636861399.py:1: FutureWarning: \n",
      "\n",
      "Passing `palette` without assigning `hue` is deprecated and will be removed in v0.14.0. Assign the `x` variable to `hue` and set `legend=False` for the same effect.\n",
      "\n",
      "  sns.countplot(x = data['Time_label'], palette='viridis')\n"
     ]
    },
    {
     "data": {
      "image/png": "[encoded data removed]",
      "text/plain": [
       "<Figure size 640x480 with 1 Axes>"
      ]
     },
     "metadata": {},
     "output_type": "display_data"
    }
   ],
   "source": [
    "sns.countplot(x = data['Time_label'], palette='viridis')\n",
    "plt.title(\"Travelers Time label\", fontsize=18, weight='bold', color='white')\n",
    "plt.xticks(rotation=45, color = 'white')\n",
    "plt.yticks(color = 'white')\n",
    "plt.xlabel(\"Time_label\", fontsize=14, weight='bold', color='white')\n",
    "plt.ylabel(\"Count\", fontsize=14, weight='bold', color='white')\n",
    "plt.show()\n"
   ]
  },
  {
   "cell_type": "code",
   "execution_count": 37,
   "metadata": {},
   "outputs": [
    {
     "data": {
      "image/png": "[encoded data removed]",
      "text/plain": [
       "<Figure size 640x480 with 1 Axes>"
      ]
     },
     "metadata": {},
     "output_type": "display_data"
    }
   ],
   "source": [
    "sns.countplot(x=data[\"month\"])\n",
    "plt.title((\"Value Counts of Feature: MONTH\"), weight = 'bold', color = 'white')\n",
    "plt.xticks(rotation=90, color = \"white\")\n",
    "plt.yticks(color = \"white\")\n",
    "plt.xlabel(\"Month\", fontsize=14, weight='bold', color='white')\n",
    "plt.ylabel(\"Count\", fontsize=14, weight='bold', color='white')\n",
    "plt.show()\n",
    "\n"
   ]
  },
  {
   "cell_type": "code",
   "execution_count": 38,
   "metadata": {},
   "outputs": [
    {
     "name": "stderr",
     "output_type": "stream",
     "text": [
      "C:\\Users\\Mohak Singh\\AppData\\Local\\Temp\\ipykernel_22400\\1398352250.py:1: FutureWarning: \n",
      "\n",
      "Passing `palette` without assigning `hue` is deprecated and will be removed in v0.14.0. Assign the `x` variable to `hue` and set `legend=False` for the same effect.\n",
      "\n",
      "  sns.barplot(x = data['month'], y = data['miles'], palette='viridis')\n"
     ]
    },
    {
     "data": {
      "image/png": "[encoded data removed]",
      "text/plain": [
       "<Figure size 640x480 with 1 Axes>"
      ]
     },
     "metadata": {},
     "output_type": "display_data"
    }
   ],
   "source": [
    "sns.barplot(x = data['month'], y = data['miles'], palette='viridis')\n",
    "plt.title(\"Miles travelled month wise\", color = \"white\", weight = 'bold')\n",
    "plt.xticks(rotation=45, color = 'white')\n",
    "plt.yticks(color = 'white')\n",
    "plt.xlabel(\"Month\", fontsize=14, weight='bold', color='white')\n",
    "plt.ylabel(\"miles\", fontsize=14, weight='bold', color='white')\n",
    "plt.show()"
   ]
  },
  {
   "cell_type": "code",
   "execution_count": 39,
   "metadata": {},
   "outputs": [
    {
     "name": "stderr",
     "output_type": "stream",
     "text": [
      "C:\\Users\\Mohak Singh\\AppData\\Local\\Temp\\ipykernel_22400\\314521813.py:1: FutureWarning: \n",
      "\n",
      "Passing `palette` without assigning `hue` is deprecated and will be removed in v0.14.0. Assign the `x` variable to `hue` and set `legend=False` for the same effect.\n",
      "\n",
      "  sns.boxplot(x = data['category'], y = data['miles'], palette='viridis')\n"
     ]
    },
    {
     "data": {
      "image/png": "[encoded data removed]",
      "text/plain": [
       "<Figure size 640x480 with 1 Axes>"
      ]
     },
     "metadata": {},
     "output_type": "display_data"
    }
   ],
   "source": [
    "sns.boxplot(x = data['category'], y = data['miles'], palette='viridis')\n",
    "plt.title(\"Miles travelled category wise\", color = \"white\", weight = 'bold')\n",
    "plt.xticks(rotation=45, color = 'white')\n",
    "plt.yticks(color = 'white')\n",
    "plt.xlabel(\"Category\", fontsize=14, weight='bold', color='white')\n",
    "plt.ylabel(\"miles\", fontsize=14, weight='bold', color='white')\n",
    "plt.show()\n"
   ]
  },
  {
   "cell_type": "code",
   "execution_count": null,
   "metadata": {},
   "outputs": [
    {
     "name": "stderr",
     "output_type": "stream",
     "text": [
      "C:\\Users\\Mohak Singh\\AppData\\Local\\Temp\\ipykernel_22400\\1305083300.py:1: FutureWarning: \n",
      "\n",
      "Passing `palette` without assigning `hue` is deprecated and will be removed in v0.14.0. Assign the `y` variable to `hue` and set `legend=False` for the same effect.\n",
      "\n",
      "  sns.boxplot(y = data['category'], x = data['fare'], palette='viridis')\n"
     ]
    },
    {
     "data": {
      "text/plain": [
       "<Axes: xlabel='fare', ylabel='category'>"
      ]
     },
     "execution_count": 41,
     "metadata": {},
     "output_type": "execute_result"
    },
    {
     "data": {
      "image/png": "[encoded data removed]",
      "text/plain": [
       "<Figure size 640x480 with 1 Axes>"
      ]
     },
     "metadata": {},
     "output_type": "display_data"
    }
   ],
   "source": []
  },
  {
   "cell_type": "code",
   "execution_count": 45,
   "metadata": {},
   "outputs": [],
   "source": [
    "from tensorflow.keras.models import Sequential\n",
    "from tensorflow.keras.layers import Dense, Dropout\n",
    "from sklearn.model_selection import train_test_split\n",
    "from sklearn.preprocessing import StandardScaler\n",
    "from sklearn.metrics import mean_squared_error\n",
    "from sklearn.preprocessing import LabelEncoder"
   ]
  },
  {
   "cell_type": "markdown",
   "metadata": {},
   "source": [
    "## From here"
   ]
  },
  {
   "cell_type": "markdown",
   "metadata": {},
   "source": [
    "## till here"
   ]
  },
  {
   "cell_type": "code",
   "execution_count": 43,
   "metadata": {},
   "outputs": [],
   "source": [
    "import tensorflow as tf"
   ]
  },
  {
   "cell_type": "markdown",
   "metadata": {},
   "source": []
  },
  {
   "cell_type": "code",
   "execution_count": 49,
   "metadata": {},
   "outputs": [],
   "source": [
    "import pandas as pd"
   ]
  },
  {
   "cell_type": "code",
   "execution_count": 40,
   "metadata": {},
   "outputs": [
    {
     "data": {
      "text/html": [
       "<div>\n",
       "<style scoped>\n",
       "    .dataframe tbody tr th:only-of-type {\n",
       "        vertical-align: middle;\n",
       "    }\n",
       "\n",
       "    .dataframe tbody tr th {\n",
       "        vertical-align: top;\n",
       "    }\n",
       "\n",
       "    .dataframe thead th {\n",
       "        text-align: right;\n",
       "    }\n",
       "</style>\n",
       "<table border=\"1\" class=\"dataframe\">\n",
       "  <thead>\n",
       "    <tr style=\"text-align: right;\">\n",
       "      <th></th>\n",
       "      <th>start_date</th>\n",
       "      <th>end_date</th>\n",
       "      <th>category</th>\n",
       "      <th>start</th>\n",
       "      <th>stop</th>\n",
       "      <th>miles</th>\n",
       "      <th>purpose</th>\n",
       "      <th>start_date_only</th>\n",
       "      <th>start_hour</th>\n",
       "      <th>end_date_only</th>\n",
       "      <th>end_hour</th>\n",
       "    </tr>\n",
       "  </thead>\n",
       "  <tbody>\n",
       "    <tr>\n",
       "      <th>0</th>\n",
       "      <td>2016-01-01 21:11:00</td>\n",
       "      <td>2016-01-01 21:17:00</td>\n",
       "      <td>Business</td>\n",
       "      <td>Fort Pierce</td>\n",
       "      <td>Fort Pierce</td>\n",
       "      <td>5.1</td>\n",
       "      <td>Meal/Entertain</td>\n",
       "      <td>2016-01-01</td>\n",
       "      <td>21</td>\n",
       "      <td>2016-01-01</td>\n",
       "      <td>21</td>\n",
       "    </tr>\n",
       "    <tr>\n",
       "      <th>1</th>\n",
       "      <td>2016-01-02 20:25:00</td>\n",
       "      <td>2016-01-02 20:38:00</td>\n",
       "      <td>Business</td>\n",
       "      <td>Fort Pierce</td>\n",
       "      <td>Fort Pierce</td>\n",
       "      <td>4.8</td>\n",
       "      <td>Errand/Supplies</td>\n",
       "      <td>2016-01-02</td>\n",
       "      <td>20</td>\n",
       "      <td>2016-01-02</td>\n",
       "      <td>20</td>\n",
       "    </tr>\n",
       "    <tr>\n",
       "      <th>2</th>\n",
       "      <td>2016-01-05 17:31:00</td>\n",
       "      <td>2016-01-05 17:45:00</td>\n",
       "      <td>Business</td>\n",
       "      <td>Fort Pierce</td>\n",
       "      <td>Fort Pierce</td>\n",
       "      <td>4.7</td>\n",
       "      <td>Meeting</td>\n",
       "      <td>2016-01-05</td>\n",
       "      <td>17</td>\n",
       "      <td>2016-01-05</td>\n",
       "      <td>17</td>\n",
       "    </tr>\n",
       "    <tr>\n",
       "      <th>3</th>\n",
       "      <td>2016-01-06 14:42:00</td>\n",
       "      <td>2016-01-06 15:49:00</td>\n",
       "      <td>Business</td>\n",
       "      <td>Fort Pierce</td>\n",
       "      <td>West Palm Beach</td>\n",
       "      <td>63.7</td>\n",
       "      <td>Customer Visit</td>\n",
       "      <td>2016-01-06</td>\n",
       "      <td>14</td>\n",
       "      <td>2016-01-06</td>\n",
       "      <td>15</td>\n",
       "    </tr>\n",
       "    <tr>\n",
       "      <th>4</th>\n",
       "      <td>2016-01-06 17:15:00</td>\n",
       "      <td>2016-01-06 17:19:00</td>\n",
       "      <td>Business</td>\n",
       "      <td>West Palm Beach</td>\n",
       "      <td>West Palm Beach</td>\n",
       "      <td>4.3</td>\n",
       "      <td>Meal/Entertain</td>\n",
       "      <td>2016-01-06</td>\n",
       "      <td>17</td>\n",
       "      <td>2016-01-06</td>\n",
       "      <td>17</td>\n",
       "    </tr>\n",
       "    <tr>\n",
       "      <th>...</th>\n",
       "      <td>...</td>\n",
       "      <td>...</td>\n",
       "      <td>...</td>\n",
       "      <td>...</td>\n",
       "      <td>...</td>\n",
       "      <td>...</td>\n",
       "      <td>...</td>\n",
       "      <td>...</td>\n",
       "      <td>...</td>\n",
       "      <td>...</td>\n",
       "      <td>...</td>\n",
       "    </tr>\n",
       "    <tr>\n",
       "      <th>648</th>\n",
       "      <td>2016-12-31 01:07:00</td>\n",
       "      <td>2016-12-31 01:14:00</td>\n",
       "      <td>Business</td>\n",
       "      <td>Kar?chi</td>\n",
       "      <td>Kar?chi</td>\n",
       "      <td>0.7</td>\n",
       "      <td>Meeting</td>\n",
       "      <td>2016-12-31</td>\n",
       "      <td>1</td>\n",
       "      <td>2016-12-31</td>\n",
       "      <td>1</td>\n",
       "    </tr>\n",
       "    <tr>\n",
       "      <th>649</th>\n",
       "      <td>2016-12-31 13:24:00</td>\n",
       "      <td>2016-12-31 13:42:00</td>\n",
       "      <td>Business</td>\n",
       "      <td>Kar?chi</td>\n",
       "      <td>Unknown Location</td>\n",
       "      <td>3.9</td>\n",
       "      <td>Temporary Site</td>\n",
       "      <td>2016-12-31</td>\n",
       "      <td>13</td>\n",
       "      <td>2016-12-31</td>\n",
       "      <td>13</td>\n",
       "    </tr>\n",
       "    <tr>\n",
       "      <th>650</th>\n",
       "      <td>2016-12-31 15:03:00</td>\n",
       "      <td>2016-12-31 15:38:00</td>\n",
       "      <td>Business</td>\n",
       "      <td>Unknown Location</td>\n",
       "      <td>Unknown Location</td>\n",
       "      <td>16.2</td>\n",
       "      <td>Meeting</td>\n",
       "      <td>2016-12-31</td>\n",
       "      <td>15</td>\n",
       "      <td>2016-12-31</td>\n",
       "      <td>15</td>\n",
       "    </tr>\n",
       "    <tr>\n",
       "      <th>651</th>\n",
       "      <td>2016-12-31 21:32:00</td>\n",
       "      <td>2016-12-31 21:50:00</td>\n",
       "      <td>Business</td>\n",
       "      <td>Katunayake</td>\n",
       "      <td>Gampaha</td>\n",
       "      <td>6.4</td>\n",
       "      <td>Temporary Site</td>\n",
       "      <td>2016-12-31</td>\n",
       "      <td>21</td>\n",
       "      <td>2016-12-31</td>\n",
       "      <td>21</td>\n",
       "    </tr>\n",
       "    <tr>\n",
       "      <th>652</th>\n",
       "      <td>2016-12-31 22:08:00</td>\n",
       "      <td>2016-12-31 23:51:00</td>\n",
       "      <td>Business</td>\n",
       "      <td>Gampaha</td>\n",
       "      <td>Ilukwatta</td>\n",
       "      <td>48.2</td>\n",
       "      <td>Temporary Site</td>\n",
       "      <td>2016-12-31</td>\n",
       "      <td>22</td>\n",
       "      <td>2016-12-31</td>\n",
       "      <td>23</td>\n",
       "    </tr>\n",
       "  </tbody>\n",
       "</table>\n",
       "<p>653 rows × 11 columns</p>\n",
       "</div>"
      ],
      "text/plain": [
       "             start_date            end_date  category             start  \\\n",
       "0   2016-01-01 21:11:00 2016-01-01 21:17:00  Business       Fort Pierce   \n",
       "1   2016-01-02 20:25:00 2016-01-02 20:38:00  Business       Fort Pierce   \n",
       "2   2016-01-05 17:31:00 2016-01-05 17:45:00  Business       Fort Pierce   \n",
       "3   2016-01-06 14:42:00 2016-01-06 15:49:00  Business       Fort Pierce   \n",
       "4   2016-01-06 17:15:00 2016-01-06 17:19:00  Business   West Palm Beach   \n",
       "..                  ...                 ...       ...               ...   \n",
       "648 2016-12-31 01:07:00 2016-12-31 01:14:00  Business           Kar?chi   \n",
       "649 2016-12-31 13:24:00 2016-12-31 13:42:00  Business           Kar?chi   \n",
       "650 2016-12-31 15:03:00 2016-12-31 15:38:00  Business  Unknown Location   \n",
       "651 2016-12-31 21:32:00 2016-12-31 21:50:00  Business        Katunayake   \n",
       "652 2016-12-31 22:08:00 2016-12-31 23:51:00  Business           Gampaha   \n",
       "\n",
       "                 stop  miles          purpose start_date_only  start_hour  \\\n",
       "0         Fort Pierce    5.1   Meal/Entertain      2016-01-01          21   \n",
       "1         Fort Pierce    4.8  Errand/Supplies      2016-01-02          20   \n",
       "2         Fort Pierce    4.7          Meeting      2016-01-05          17   \n",
       "3     West Palm Beach   63.7   Customer Visit      2016-01-06          14   \n",
       "4     West Palm Beach    4.3   Meal/Entertain      2016-01-06          17   \n",
       "..                ...    ...              ...             ...         ...   \n",
       "648           Kar?chi    0.7          Meeting      2016-12-31           1   \n",
       "649  Unknown Location    3.9   Temporary Site      2016-12-31          13   \n",
       "650  Unknown Location   16.2          Meeting      2016-12-31          15   \n",
       "651           Gampaha    6.4   Temporary Site      2016-12-31          21   \n",
       "652         Ilukwatta   48.2   Temporary Site      2016-12-31          22   \n",
       "\n",
       "    end_date_only  end_hour  \n",
       "0      2016-01-01        21  \n",
       "1      2016-01-02        20  \n",
       "2      2016-01-05        17  \n",
       "3      2016-01-06        15  \n",
       "4      2016-01-06        17  \n",
       "..            ...       ...  \n",
       "648    2016-12-31         1  \n",
       "649    2016-12-31        13  \n",
       "650    2016-12-31        15  \n",
       "651    2016-12-31        21  \n",
       "652    2016-12-31        23  \n",
       "\n",
       "[653 rows x 11 columns]"
      ]
     },
     "execution_count": 40,
     "metadata": {},
     "output_type": "execute_result"
    }
   ],
   "source": [
    "df1 = uber_df.toPandas()\n",
    "df1"
   ]
  },
  {
   "cell_type": "code",
   "execution_count": 41,
   "metadata": {},
   "outputs": [],
   "source": [
    "df1.drop(['start_date', 'end_date', 'purpose', 'category'], axis = 1, inplace = True)"
   ]
  },
  {
   "cell_type": "code",
   "execution_count": 42,
   "metadata": {},
   "outputs": [
    {
     "data": {
      "text/html": [
       "<div>\n",
       "<style scoped>\n",
       "    .dataframe tbody tr th:only-of-type {\n",
       "        vertical-align: middle;\n",
       "    }\n",
       "\n",
       "    .dataframe tbody tr th {\n",
       "        vertical-align: top;\n",
       "    }\n",
       "\n",
       "    .dataframe thead th {\n",
       "        text-align: right;\n",
       "    }\n",
       "</style>\n",
       "<table border=\"1\" class=\"dataframe\">\n",
       "  <thead>\n",
       "    <tr style=\"text-align: right;\">\n",
       "      <th></th>\n",
       "      <th>start</th>\n",
       "      <th>stop</th>\n",
       "      <th>miles</th>\n",
       "      <th>start_date_only</th>\n",
       "      <th>start_hour</th>\n",
       "      <th>end_date_only</th>\n",
       "      <th>end_hour</th>\n",
       "    </tr>\n",
       "  </thead>\n",
       "  <tbody>\n",
       "    <tr>\n",
       "      <th>0</th>\n",
       "      <td>Fort Pierce</td>\n",
       "      <td>Fort Pierce</td>\n",
       "      <td>5.1</td>\n",
       "      <td>2016-01-01</td>\n",
       "      <td>21</td>\n",
       "      <td>2016-01-01</td>\n",
       "      <td>21</td>\n",
       "    </tr>\n",
       "    <tr>\n",
       "      <th>1</th>\n",
       "      <td>Fort Pierce</td>\n",
       "      <td>Fort Pierce</td>\n",
       "      <td>4.8</td>\n",
       "      <td>2016-01-02</td>\n",
       "      <td>20</td>\n",
       "      <td>2016-01-02</td>\n",
       "      <td>20</td>\n",
       "    </tr>\n",
       "    <tr>\n",
       "      <th>2</th>\n",
       "      <td>Fort Pierce</td>\n",
       "      <td>Fort Pierce</td>\n",
       "      <td>4.7</td>\n",
       "      <td>2016-01-05</td>\n",
       "      <td>17</td>\n",
       "      <td>2016-01-05</td>\n",
       "      <td>17</td>\n",
       "    </tr>\n",
       "    <tr>\n",
       "      <th>3</th>\n",
       "      <td>Fort Pierce</td>\n",
       "      <td>West Palm Beach</td>\n",
       "      <td>63.7</td>\n",
       "      <td>2016-01-06</td>\n",
       "      <td>14</td>\n",
       "      <td>2016-01-06</td>\n",
       "      <td>15</td>\n",
       "    </tr>\n",
       "    <tr>\n",
       "      <th>4</th>\n",
       "      <td>West Palm Beach</td>\n",
       "      <td>West Palm Beach</td>\n",
       "      <td>4.3</td>\n",
       "      <td>2016-01-06</td>\n",
       "      <td>17</td>\n",
       "      <td>2016-01-06</td>\n",
       "      <td>17</td>\n",
       "    </tr>\n",
       "  </tbody>\n",
       "</table>\n",
       "</div>"
      ],
      "text/plain": [
       "             start             stop  miles start_date_only  start_hour  \\\n",
       "0      Fort Pierce      Fort Pierce    5.1      2016-01-01          21   \n",
       "1      Fort Pierce      Fort Pierce    4.8      2016-01-02          20   \n",
       "2      Fort Pierce      Fort Pierce    4.7      2016-01-05          17   \n",
       "3      Fort Pierce  West Palm Beach   63.7      2016-01-06          14   \n",
       "4  West Palm Beach  West Palm Beach    4.3      2016-01-06          17   \n",
       "\n",
       "  end_date_only  end_hour  \n",
       "0    2016-01-01        21  \n",
       "1    2016-01-02        20  \n",
       "2    2016-01-05        17  \n",
       "3    2016-01-06        15  \n",
       "4    2016-01-06        17  "
      ]
     },
     "execution_count": 42,
     "metadata": {},
     "output_type": "execute_result"
    }
   ],
   "source": [
    "df1.head()"
   ]
  },
  {
   "cell_type": "code",
   "execution_count": 43,
   "metadata": {},
   "outputs": [],
   "source": [
    "df1['fare'] = df1['miles'] * 2.5\n"
   ]
  },
  {
   "cell_type": "code",
   "execution_count": 44,
   "metadata": {},
   "outputs": [],
   "source": [
    "import joblib"
   ]
  },
  {
   "cell_type": "code",
   "execution_count": 47,
   "metadata": {},
   "outputs": [
    {
     "name": "stdout",
     "output_type": "stream",
     "text": [
      "<class 'pandas.core.frame.DataFrame'>\n",
      "RangeIndex: 653 entries, 0 to 652\n",
      "Data columns (total 10 columns):\n",
      " #   Column           Non-Null Count  Dtype  \n",
      "---  ------           --------------  -----  \n",
      " 0   start            653 non-null    object \n",
      " 1   stop             653 non-null    object \n",
      " 2   miles            653 non-null    float64\n",
      " 3   start_date_only  653 non-null    object \n",
      " 4   start_hour       653 non-null    int32  \n",
      " 5   end_date_only    653 non-null    object \n",
      " 6   end_hour         653 non-null    int32  \n",
      " 7   fare             653 non-null    float64\n",
      " 8   start_encoded    653 non-null    int64  \n",
      " 9   stop_encoed      653 non-null    int64  \n",
      "dtypes: float64(2), int32(2), int64(2), object(4)\n",
      "memory usage: 46.0+ KB\n"
     ]
    }
   ],
   "source": [
    "df1.info()"
   ]
  },
  {
   "cell_type": "code",
   "execution_count": 50,
   "metadata": {},
   "outputs": [],
   "source": [
    "df1['start_date_only'] = pd.to_datetime(df1['start_date_only'])\n",
    "df1['end_date_only'] = pd.to_datetime(df1['end_date_only'])\n"
   ]
  },
  {
   "cell_type": "code",
   "execution_count": 52,
   "metadata": {},
   "outputs": [],
   "source": [
    "df1['day_of_week'] = df1['start_date_only'].dt.dayofweek\n"
   ]
  },
  {
   "cell_type": "code",
   "execution_count": 53,
   "metadata": {},
   "outputs": [
    {
     "name": "stdout",
     "output_type": "stream",
     "text": [
      "<class 'pandas.core.frame.DataFrame'>\n",
      "RangeIndex: 653 entries, 0 to 652\n",
      "Data columns (total 11 columns):\n",
      " #   Column           Non-Null Count  Dtype         \n",
      "---  ------           --------------  -----         \n",
      " 0   start            653 non-null    object        \n",
      " 1   stop             653 non-null    object        \n",
      " 2   miles            653 non-null    float64       \n",
      " 3   start_date_only  653 non-null    datetime64[ns]\n",
      " 4   start_hour       653 non-null    int32         \n",
      " 5   end_date_only    653 non-null    datetime64[ns]\n",
      " 6   end_hour         653 non-null    int32         \n",
      " 7   fare             653 non-null    float64       \n",
      " 8   start_encoded    653 non-null    int64         \n",
      " 9   stop_encoed      653 non-null    int64         \n",
      " 10  day_of_week      653 non-null    int32         \n",
      "dtypes: datetime64[ns](2), float64(2), int32(3), int64(2), object(2)\n",
      "memory usage: 48.6+ KB\n"
     ]
    }
   ],
   "source": [
    "df1.info()"
   ]
  },
  {
   "cell_type": "code",
   "execution_count": 54,
   "metadata": {},
   "outputs": [
    {
     "data": {
      "text/html": [
       "<div>\n",
       "<style scoped>\n",
       "    .dataframe tbody tr th:only-of-type {\n",
       "        vertical-align: middle;\n",
       "    }\n",
       "\n",
       "    .dataframe tbody tr th {\n",
       "        vertical-align: top;\n",
       "    }\n",
       "\n",
       "    .dataframe thead th {\n",
       "        text-align: right;\n",
       "    }\n",
       "</style>\n",
       "<table border=\"1\" class=\"dataframe\">\n",
       "  <thead>\n",
       "    <tr style=\"text-align: right;\">\n",
       "      <th></th>\n",
       "      <th>start</th>\n",
       "      <th>stop</th>\n",
       "      <th>miles</th>\n",
       "      <th>start_date_only</th>\n",
       "      <th>start_hour</th>\n",
       "      <th>end_date_only</th>\n",
       "      <th>end_hour</th>\n",
       "      <th>fare</th>\n",
       "      <th>start_encoded</th>\n",
       "      <th>stop_encoed</th>\n",
       "      <th>day_of_week</th>\n",
       "    </tr>\n",
       "  </thead>\n",
       "  <tbody>\n",
       "    <tr>\n",
       "      <th>0</th>\n",
       "      <td>Fort Pierce</td>\n",
       "      <td>Fort Pierce</td>\n",
       "      <td>5.1</td>\n",
       "      <td>2016-01-01</td>\n",
       "      <td>21</td>\n",
       "      <td>2016-01-01</td>\n",
       "      <td>21</td>\n",
       "      <td>12.75</td>\n",
       "      <td>35</td>\n",
       "      <td>32</td>\n",
       "      <td>4</td>\n",
       "    </tr>\n",
       "    <tr>\n",
       "      <th>1</th>\n",
       "      <td>Fort Pierce</td>\n",
       "      <td>Fort Pierce</td>\n",
       "      <td>4.8</td>\n",
       "      <td>2016-01-02</td>\n",
       "      <td>20</td>\n",
       "      <td>2016-01-02</td>\n",
       "      <td>20</td>\n",
       "      <td>12.00</td>\n",
       "      <td>35</td>\n",
       "      <td>32</td>\n",
       "      <td>5</td>\n",
       "    </tr>\n",
       "    <tr>\n",
       "      <th>2</th>\n",
       "      <td>Fort Pierce</td>\n",
       "      <td>Fort Pierce</td>\n",
       "      <td>4.7</td>\n",
       "      <td>2016-01-05</td>\n",
       "      <td>17</td>\n",
       "      <td>2016-01-05</td>\n",
       "      <td>17</td>\n",
       "      <td>11.75</td>\n",
       "      <td>35</td>\n",
       "      <td>32</td>\n",
       "      <td>1</td>\n",
       "    </tr>\n",
       "    <tr>\n",
       "      <th>3</th>\n",
       "      <td>Fort Pierce</td>\n",
       "      <td>West Palm Beach</td>\n",
       "      <td>63.7</td>\n",
       "      <td>2016-01-06</td>\n",
       "      <td>14</td>\n",
       "      <td>2016-01-06</td>\n",
       "      <td>15</td>\n",
       "      <td>159.25</td>\n",
       "      <td>35</td>\n",
       "      <td>130</td>\n",
       "      <td>2</td>\n",
       "    </tr>\n",
       "    <tr>\n",
       "      <th>4</th>\n",
       "      <td>West Palm Beach</td>\n",
       "      <td>West Palm Beach</td>\n",
       "      <td>4.3</td>\n",
       "      <td>2016-01-06</td>\n",
       "      <td>17</td>\n",
       "      <td>2016-01-06</td>\n",
       "      <td>17</td>\n",
       "      <td>10.75</td>\n",
       "      <td>125</td>\n",
       "      <td>130</td>\n",
       "      <td>2</td>\n",
       "    </tr>\n",
       "  </tbody>\n",
       "</table>\n",
       "</div>"
      ],
      "text/plain": [
       "             start             stop  miles start_date_only  start_hour  \\\n",
       "0      Fort Pierce      Fort Pierce    5.1      2016-01-01          21   \n",
       "1      Fort Pierce      Fort Pierce    4.8      2016-01-02          20   \n",
       "2      Fort Pierce      Fort Pierce    4.7      2016-01-05          17   \n",
       "3      Fort Pierce  West Palm Beach   63.7      2016-01-06          14   \n",
       "4  West Palm Beach  West Palm Beach    4.3      2016-01-06          17   \n",
       "\n",
       "  end_date_only  end_hour    fare  start_encoded  stop_encoed  day_of_week  \n",
       "0    2016-01-01        21   12.75             35           32            4  \n",
       "1    2016-01-02        20   12.00             35           32            5  \n",
       "2    2016-01-05        17   11.75             35           32            1  \n",
       "3    2016-01-06        15  159.25             35          130            2  \n",
       "4    2016-01-06        17   10.75            125          130            2  "
      ]
     },
     "execution_count": 54,
     "metadata": {},
     "output_type": "execute_result"
    }
   ],
   "source": [
    "df1.head()"
   ]
  },
  {
   "cell_type": "code",
   "execution_count": 55,
   "metadata": {},
   "outputs": [],
   "source": [
    "df1.drop(['start_encoded', 'stop_encoed'], axis = 1, inplace = True)"
   ]
  },
  {
   "cell_type": "code",
   "execution_count": 56,
   "metadata": {},
   "outputs": [],
   "source": [
    "from sklearn.preprocessing import LabelEncoder\n",
    "\n",
    "all_locations = pd.concat([df1['start'], df1['stop']]).unique()\n",
    "le = LabelEncoder()\n",
    "le.fit(all_locations)\n",
    "\n",
    "df1['start'] = le.transform(df1['start'])\n",
    "df1['stop'] = le.transform(df1['stop'])"
   ]
  },
  {
   "cell_type": "code",
   "execution_count": 57,
   "metadata": {},
   "outputs": [
    {
     "data": {
      "text/plain": [
       "['location_encoder.pkl']"
      ]
     },
     "execution_count": 57,
     "metadata": {},
     "output_type": "execute_result"
    }
   ],
   "source": [
    "import joblib\n",
    "joblib.dump(le, 'location_encoder.pkl')\n"
   ]
  },
  {
   "cell_type": "code",
   "execution_count": 58,
   "metadata": {},
   "outputs": [
    {
     "data": {
      "text/plain": [
       "Index(['start', 'stop', 'miles', 'start_date_only', 'start_hour',\n",
       "       'end_date_only', 'end_hour', 'fare', 'day_of_week'],\n",
       "      dtype='object')"
      ]
     },
     "execution_count": 58,
     "metadata": {},
     "output_type": "execute_result"
    }
   ],
   "source": [
    "df1.columns"
   ]
  },
  {
   "cell_type": "code",
   "execution_count": 105,
   "metadata": {},
   "outputs": [
    {
     "data": {
      "text/html": [
       "<div>\n",
       "<style scoped>\n",
       "    .dataframe tbody tr th:only-of-type {\n",
       "        vertical-align: middle;\n",
       "    }\n",
       "\n",
       "    .dataframe tbody tr th {\n",
       "        vertical-align: top;\n",
       "    }\n",
       "\n",
       "    .dataframe thead th {\n",
       "        text-align: right;\n",
       "    }\n",
       "</style>\n",
       "<table border=\"1\" class=\"dataframe\">\n",
       "  <thead>\n",
       "    <tr style=\"text-align: right;\">\n",
       "      <th></th>\n",
       "      <th>start</th>\n",
       "      <th>stop</th>\n",
       "      <th>miles</th>\n",
       "      <th>start_date_only</th>\n",
       "      <th>start_hour</th>\n",
       "      <th>end_date_only</th>\n",
       "      <th>end_hour</th>\n",
       "      <th>fare</th>\n",
       "      <th>day_of_week</th>\n",
       "      <th>date_only</th>\n",
       "      <th>month</th>\n",
       "      <th>year</th>\n",
       "    </tr>\n",
       "  </thead>\n",
       "  <tbody>\n",
       "    <tr>\n",
       "      <th>0</th>\n",
       "      <td>44</td>\n",
       "      <td>44</td>\n",
       "      <td>5.1</td>\n",
       "      <td>2016-01-01</td>\n",
       "      <td>21</td>\n",
       "      <td>2016-01-01</td>\n",
       "      <td>21</td>\n",
       "      <td>12.75</td>\n",
       "      <td>4</td>\n",
       "      <td>1</td>\n",
       "      <td>1</td>\n",
       "      <td>2016</td>\n",
       "    </tr>\n",
       "    <tr>\n",
       "      <th>1</th>\n",
       "      <td>44</td>\n",
       "      <td>44</td>\n",
       "      <td>4.8</td>\n",
       "      <td>2016-01-02</td>\n",
       "      <td>20</td>\n",
       "      <td>2016-01-02</td>\n",
       "      <td>20</td>\n",
       "      <td>12.00</td>\n",
       "      <td>5</td>\n",
       "      <td>2</td>\n",
       "      <td>1</td>\n",
       "      <td>2016</td>\n",
       "    </tr>\n",
       "    <tr>\n",
       "      <th>2</th>\n",
       "      <td>44</td>\n",
       "      <td>44</td>\n",
       "      <td>4.7</td>\n",
       "      <td>2016-01-05</td>\n",
       "      <td>17</td>\n",
       "      <td>2016-01-05</td>\n",
       "      <td>17</td>\n",
       "      <td>11.75</td>\n",
       "      <td>1</td>\n",
       "      <td>5</td>\n",
       "      <td>1</td>\n",
       "      <td>2016</td>\n",
       "    </tr>\n",
       "    <tr>\n",
       "      <th>3</th>\n",
       "      <td>44</td>\n",
       "      <td>159</td>\n",
       "      <td>63.7</td>\n",
       "      <td>2016-01-06</td>\n",
       "      <td>14</td>\n",
       "      <td>2016-01-06</td>\n",
       "      <td>15</td>\n",
       "      <td>159.25</td>\n",
       "      <td>2</td>\n",
       "      <td>6</td>\n",
       "      <td>1</td>\n",
       "      <td>2016</td>\n",
       "    </tr>\n",
       "    <tr>\n",
       "      <th>4</th>\n",
       "      <td>159</td>\n",
       "      <td>159</td>\n",
       "      <td>4.3</td>\n",
       "      <td>2016-01-06</td>\n",
       "      <td>17</td>\n",
       "      <td>2016-01-06</td>\n",
       "      <td>17</td>\n",
       "      <td>10.75</td>\n",
       "      <td>2</td>\n",
       "      <td>6</td>\n",
       "      <td>1</td>\n",
       "      <td>2016</td>\n",
       "    </tr>\n",
       "    <tr>\n",
       "      <th>...</th>\n",
       "      <td>...</td>\n",
       "      <td>...</td>\n",
       "      <td>...</td>\n",
       "      <td>...</td>\n",
       "      <td>...</td>\n",
       "      <td>...</td>\n",
       "      <td>...</td>\n",
       "      <td>...</td>\n",
       "      <td>...</td>\n",
       "      <td>...</td>\n",
       "      <td>...</td>\n",
       "      <td>...</td>\n",
       "    </tr>\n",
       "    <tr>\n",
       "      <th>648</th>\n",
       "      <td>68</td>\n",
       "      <td>68</td>\n",
       "      <td>0.7</td>\n",
       "      <td>2016-12-31</td>\n",
       "      <td>1</td>\n",
       "      <td>2016-12-31</td>\n",
       "      <td>1</td>\n",
       "      <td>1.75</td>\n",
       "      <td>5</td>\n",
       "      <td>31</td>\n",
       "      <td>12</td>\n",
       "      <td>2016</td>\n",
       "    </tr>\n",
       "    <tr>\n",
       "      <th>649</th>\n",
       "      <td>68</td>\n",
       "      <td>152</td>\n",
       "      <td>3.9</td>\n",
       "      <td>2016-12-31</td>\n",
       "      <td>13</td>\n",
       "      <td>2016-12-31</td>\n",
       "      <td>13</td>\n",
       "      <td>9.75</td>\n",
       "      <td>5</td>\n",
       "      <td>31</td>\n",
       "      <td>12</td>\n",
       "      <td>2016</td>\n",
       "    </tr>\n",
       "    <tr>\n",
       "      <th>650</th>\n",
       "      <td>152</td>\n",
       "      <td>152</td>\n",
       "      <td>16.2</td>\n",
       "      <td>2016-12-31</td>\n",
       "      <td>15</td>\n",
       "      <td>2016-12-31</td>\n",
       "      <td>15</td>\n",
       "      <td>40.50</td>\n",
       "      <td>5</td>\n",
       "      <td>31</td>\n",
       "      <td>12</td>\n",
       "      <td>2016</td>\n",
       "    </tr>\n",
       "    <tr>\n",
       "      <th>651</th>\n",
       "      <td>70</td>\n",
       "      <td>47</td>\n",
       "      <td>6.4</td>\n",
       "      <td>2016-12-31</td>\n",
       "      <td>21</td>\n",
       "      <td>2016-12-31</td>\n",
       "      <td>21</td>\n",
       "      <td>16.00</td>\n",
       "      <td>5</td>\n",
       "      <td>31</td>\n",
       "      <td>12</td>\n",
       "      <td>2016</td>\n",
       "    </tr>\n",
       "    <tr>\n",
       "      <th>652</th>\n",
       "      <td>47</td>\n",
       "      <td>62</td>\n",
       "      <td>48.2</td>\n",
       "      <td>2016-12-31</td>\n",
       "      <td>22</td>\n",
       "      <td>2016-12-31</td>\n",
       "      <td>23</td>\n",
       "      <td>120.50</td>\n",
       "      <td>5</td>\n",
       "      <td>31</td>\n",
       "      <td>12</td>\n",
       "      <td>2016</td>\n",
       "    </tr>\n",
       "  </tbody>\n",
       "</table>\n",
       "<p>653 rows × 12 columns</p>\n",
       "</div>"
      ],
      "text/plain": [
       "     start  stop  miles start_date_only  start_hour end_date_only  end_hour  \\\n",
       "0       44    44    5.1      2016-01-01          21    2016-01-01        21   \n",
       "1       44    44    4.8      2016-01-02          20    2016-01-02        20   \n",
       "2       44    44    4.7      2016-01-05          17    2016-01-05        17   \n",
       "3       44   159   63.7      2016-01-06          14    2016-01-06        15   \n",
       "4      159   159    4.3      2016-01-06          17    2016-01-06        17   \n",
       "..     ...   ...    ...             ...         ...           ...       ...   \n",
       "648     68    68    0.7      2016-12-31           1    2016-12-31         1   \n",
       "649     68   152    3.9      2016-12-31          13    2016-12-31        13   \n",
       "650    152   152   16.2      2016-12-31          15    2016-12-31        15   \n",
       "651     70    47    6.4      2016-12-31          21    2016-12-31        21   \n",
       "652     47    62   48.2      2016-12-31          22    2016-12-31        23   \n",
       "\n",
       "       fare  day_of_week  date_only  month  year  \n",
       "0     12.75            4          1      1  2016  \n",
       "1     12.00            5          2      1  2016  \n",
       "2     11.75            1          5      1  2016  \n",
       "3    159.25            2          6      1  2016  \n",
       "4     10.75            2          6      1  2016  \n",
       "..      ...          ...        ...    ...   ...  \n",
       "648    1.75            5         31     12  2016  \n",
       "649    9.75            5         31     12  2016  \n",
       "650   40.50            5         31     12  2016  \n",
       "651   16.00            5         31     12  2016  \n",
       "652  120.50            5         31     12  2016  \n",
       "\n",
       "[653 rows x 12 columns]"
      ]
     },
     "execution_count": 105,
     "metadata": {},
     "output_type": "execute_result"
    }
   ],
   "source": [
    "df1\n"
   ]
  },
  {
   "cell_type": "code",
   "execution_count": 67,
   "metadata": {},
   "outputs": [],
   "source": [
    "df1['date_only'] = df1['start_date_only'].dt.day\n",
    "df1['month'] = df1['start_date_only'].dt.month\n",
    "df1['year'] = df1['start_date_only'].dt.year\n"
   ]
  },
  {
   "cell_type": "code",
   "execution_count": 69,
   "metadata": {},
   "outputs": [
    {
     "data": {
      "text/plain": [
       "Index(['start', 'stop', 'miles', 'start_date_only', 'start_hour',\n",
       "       'end_date_only', 'end_hour', 'fare', 'day_of_week', 'date_only',\n",
       "       'month', 'year'],\n",
       "      dtype='object')"
      ]
     },
     "execution_count": 69,
     "metadata": {},
     "output_type": "execute_result"
    }
   ],
   "source": [
    "df1.columns"
   ]
  },
  {
   "cell_type": "code",
   "execution_count": 100,
   "metadata": {},
   "outputs": [],
   "source": [
    "features = [\n",
    "        'start', 'stop', 'miles',  'start_hour',\n",
    "        'day_of_week', 'date_only',\n",
    "       'month', 'year'\n",
    "    ]"
   ]
  },
  {
   "cell_type": "code",
   "execution_count": 101,
   "metadata": {},
   "outputs": [],
   "source": [
    "X = df1[features]\n",
    "y = df1['fare']"
   ]
  },
  {
   "cell_type": "code",
   "execution_count": 102,
   "metadata": {},
   "outputs": [],
   "source": [
    "from sklearn.model_selection import train_test_split"
   ]
  },
  {
   "cell_type": "code",
   "execution_count": 103,
   "metadata": {},
   "outputs": [],
   "source": [
    "x_train, x_test, y_train, y_test = train_test_split(X , y, test_size=0.3, random_state=0)\n"
   ]
  },
  {
   "cell_type": "code",
   "execution_count": 104,
   "metadata": {},
   "outputs": [
    {
     "data": {
      "text/plain": [
       "Index(['start', 'stop', 'miles', 'start_hour', 'day_of_week', 'date_only',\n",
       "       'month', 'year'],\n",
       "      dtype='object')"
      ]
     },
     "execution_count": 104,
     "metadata": {},
     "output_type": "execute_result"
    }
   ],
   "source": [
    "x_train.columns"
   ]
  },
  {
   "cell_type": "code",
   "execution_count": 94,
   "metadata": {},
   "outputs": [
    {
     "data": {
      "text/plain": [
       "['scaler-try.pkl']"
      ]
     },
     "execution_count": 94,
     "metadata": {},
     "output_type": "execute_result"
    }
   ],
   "source": [
    "from sklearn.preprocessing import StandardScaler\n",
    "scaler = StandardScaler()\n",
    "\n",
    "X_train_scaled = scaler.fit_transform(x_train)\n",
    "X_test_scaled = scaler.transform(x_test)\n",
    "\n",
    "joblib.dump(scaler, 'scaler-try.pkl')\n"
   ]
  },
  {
   "cell_type": "code",
   "execution_count": 95,
   "metadata": {},
   "outputs": [
    {
     "data": {
      "text/plain": [
       "<bound method NDFrame.head of      start  stop  start_hour  day_of_week  date_only  month  year\n",
       "633    152    68          11            3         29     12  2016\n",
       "484    129     9          20            1         15     11  2016\n",
       "243     15   123           8            4         22      4  2016\n",
       "402     15    98           8            3          7      7  2016\n",
       "96      95    97          14            6         14      2  2016\n",
       "..     ...   ...         ...          ...        ...    ...   ...\n",
       "9      101   120          15            6         10      1  2016\n",
       "359     86    81          16            2         15      6  2016\n",
       "192     59    46          15            5         19      3  2016\n",
       "629     68    68          18            2         28     12  2016\n",
       "559     98    15          20            2         14     12  2016\n",
       "\n",
       "[457 rows x 7 columns]>"
      ]
     },
     "execution_count": 95,
     "metadata": {},
     "output_type": "execute_result"
    }
   ],
   "source": [
    "x_train.head"
   ]
  },
  {
   "cell_type": "code",
   "execution_count": 96,
   "metadata": {},
   "outputs": [
    {
     "data": {
      "text/plain": [
       "(457, 7)"
      ]
     },
     "execution_count": 96,
     "metadata": {},
     "output_type": "execute_result"
    }
   ],
   "source": [
    "X_train_scaled.shape"
   ]
  },
  {
   "cell_type": "code",
   "execution_count": 97,
   "metadata": {},
   "outputs": [
    {
     "data": {
      "text/plain": [
       "(457,)"
      ]
     },
     "execution_count": 97,
     "metadata": {},
     "output_type": "execute_result"
    }
   ],
   "source": [
    "y_train.shape"
   ]
  },
  {
   "cell_type": "code",
   "execution_count": 79,
   "metadata": {},
   "outputs": [],
   "source": [
    "from sklearn.tree import DecisionTreeRegressor\n",
    "from sklearn.neighbors import KNeighborsRegressor\n",
    "from sklearn.linear_model import LinearRegression, Ridge, Lasso\n",
    "from sklearn.ensemble import RandomForestRegressor, GradientBoostingRegressor\n",
    "from sklearn.metrics import mean_absolute_error, mean_squared_error, r2_score\n",
    "from sklearn.model_selection import GridSearchCV"
   ]
  },
  {
   "cell_type": "code",
   "execution_count": null,
   "metadata": {},
   "outputs": [
    {
     "name": "stdout",
     "output_type": "stream",
     "text": [
      "Decision Tree Regressor:\n",
      "MAE: 24.259566326530614\n",
      "R2: -0.2441589322512865\n",
      "\n",
      "\n"
     ]
    },
    {
     "data": {
      "text/plain": [
       "['decision_tree-try.pkl']"
      ]
     },
     "execution_count": 98,
     "metadata": {},
     "output_type": "execute_result"
    }
   ],
   "source": [
    "decision_tree = DecisionTreeRegressor()\n",
    "decision_tree.fit(x_train, y_train)\n",
    "y_pred = decision_tree.predict(x_test)\n",
    "print('Decision Tree Regressor:')\n",
    "print('MAE:', mean_absolute_error(y_test, y_pred))\n",
    "print('R2:', r2_score(y_test, y_pred))\n",
    "print('\\n')\n",
    "joblib.dump(decision_tree, 'decision_tree.pkl')"
   ]
  },
  {
   "cell_type": "code",
   "execution_count": 99,
   "metadata": {},
   "outputs": [
    {
     "name": "stdout",
     "output_type": "stream",
     "text": [
      "Linear Regression:\n",
      "MAE: 25.305038415487758\n",
      "MSE: 3496.229892013952\n",
      "R2: -0.00234475695424341\n",
      "\n",
      "\n"
     ]
    },
    {
     "data": {
      "text/plain": [
       "['logistic_regression-try.pkl']"
      ]
     },
     "execution_count": 99,
     "metadata": {},
     "output_type": "execute_result"
    }
   ],
   "source": [
    "logistic_regression = LinearRegression()\n",
    "logistic_regression.fit(x_train, y_train)\n",
    "y_pred = logistic_regression.predict(x_test)\n",
    "print('Linear Regression:')\n",
    "print('MAE:', mean_absolute_error(y_test, y_pred))\n",
    "print('MSE:', mean_squared_error(y_test, y_pred))\n",
    "print('R2:', r2_score(y_test, y_pred))\n",
    "print('\\n')\n",
    "joblib.dump(logistic_regression, 'logistic_regression-try.pkl')"
   ]
  },
  {
   "cell_type": "code",
   "execution_count": null,
   "metadata": {},
   "outputs": [],
   "source": []
  },
  {
   "cell_type": "code",
   "execution_count": null,
   "metadata": {},
   "outputs": [],
   "source": [
    "mo"
   ]
  },
  {
   "cell_type": "code",
   "execution_count": 159,
   "metadata": {},
   "outputs": [
    {
     "data": {
      "text/plain": [
       "count    653.000000\n",
       "mean      27.990812\n",
       "std       57.466072\n",
       "min        1.250000\n",
       "25%        8.000000\n",
       "50%       16.000000\n",
       "75%       26.000000\n",
       "max      775.750000\n",
       "Name: fare, dtype: float64"
      ]
     },
     "execution_count": 159,
     "metadata": {},
     "output_type": "execute_result"
    }
   ],
   "source": [
    "df1['fare'].describe()"
   ]
  },
  {
   "cell_type": "code",
   "execution_count": 161,
   "metadata": {},
   "outputs": [
    {
     "name": "stdout",
     "output_type": "stream",
     "text": [
      "Linear Regression:\n",
      "MAE: 23.748313955242644\n",
      "R2: 0.013756484607135078\n",
      "\n",
      "\n"
     ]
    },
    {
     "data": {
      "text/plain": [
       "['linear_regression.pkl']"
      ]
     },
     "execution_count": 161,
     "metadata": {},
     "output_type": "execute_result"
    }
   ],
   "source": [
    "linear_regression = LinearRegression()\n",
    "linear_regression.fit(x_train, y_train)\n",
    "y_pred = linear_regression.predict(x_test)\n",
    "print('Linear Regression:')\n",
    "print('MAE:', mean_absolute_error(y_test, y_pred))\n",
    "print('R2:', r2_score(y_test, y_pred))\n",
    "print('\\n')\n",
    "joblib.dump(linear_regression, 'linear_regression.pkl')\n"
   ]
  },
  {
   "cell_type": "code",
   "execution_count": 86,
   "metadata": {},
   "outputs": [],
   "source": [
    "import tensorflow as tf"
   ]
  },
  {
   "cell_type": "code",
   "execution_count": null,
   "metadata": {},
   "outputs": [],
   "source": []
  },
  {
   "cell_type": "code",
   "execution_count": 83,
   "metadata": {},
   "outputs": [],
   "source": [
    "from tensorflow.keras.models import Sequential\n",
    "from tensorflow.keras.layers import Dense, Dropout\n",
    "from sklearn.model_selection import train_test_split\n"
   ]
  },
  {
   "cell_type": "code",
   "execution_count": 84,
   "metadata": {},
   "outputs": [
    {
     "name": "stderr",
     "output_type": "stream",
     "text": [
      "c:\\Users\\Mohak Singh\\Desktop\\Desktop Main\\Projects\\Uber_data_analysis\\.venv\\Lib\\site-packages\\keras\\src\\layers\\core\\dense.py:87: UserWarning: Do not pass an `input_shape`/`input_dim` argument to a layer. When using Sequential models, prefer using an `Input(shape)` object as the first layer in the model instead.\n",
      "  super().__init__(activity_regularizer=activity_regularizer, **kwargs)\n"
     ]
    }
   ],
   "source": [
    "model = Sequential()\n",
    "model.add(Dense(128, activation='relu', input_shape=(X_train_scaled.shape[1],)))\n",
    "model.add(Dropout(0.2))\n",
    "model.add(Dense(64, activation='relu'))\n",
    "model.add(Dropout(0.2))\n",
    "model.add(Dense(32, activation='relu'))\n",
    "model.add(Dense(1))\n"
   ]
  },
  {
   "cell_type": "code",
   "execution_count": 85,
   "metadata": {},
   "outputs": [
    {
     "ename": "NameError",
     "evalue": "name 'tf' is not defined",
     "output_type": "error",
     "traceback": [
      "\u001b[1;31m---------------------------------------------------------------------------\u001b[0m",
      "\u001b[1;31mNameError\u001b[0m                                 Traceback (most recent call last)",
      "Cell \u001b[1;32mIn[85], line 2\u001b[0m\n\u001b[0;32m      1\u001b[0m model\u001b[38;5;241m.\u001b[39mcompile(\n\u001b[1;32m----> 2\u001b[0m         optimizer\u001b[38;5;241m=\u001b[39m\u001b[43mtf\u001b[49m\u001b[38;5;241m.\u001b[39mkeras\u001b[38;5;241m.\u001b[39moptimizers\u001b[38;5;241m.\u001b[39mAdam(learning_rate\u001b[38;5;241m=\u001b[39m\u001b[38;5;241m0.001\u001b[39m),\n\u001b[0;32m      3\u001b[0m         loss\u001b[38;5;241m=\u001b[39m\u001b[38;5;124m'\u001b[39m\u001b[38;5;124mmean_squared_error\u001b[39m\u001b[38;5;124m'\u001b[39m\n\u001b[0;32m      4\u001b[0m     )\n",
      "\u001b[1;31mNameError\u001b[0m: name 'tf' is not defined"
     ]
    }
   ],
   "source": [
    "model.compile(\n",
    "        optimizer=tf.keras.optimizers.Adam(learning_rate=0.001),\n",
    "        loss='mean_squared_error'\n",
    "    )"
   ]
  },
  {
   "cell_type": "code",
   "execution_count": 137,
   "metadata": {},
   "outputs": [],
   "source": [
    "from tensorflow.keras.callbacks import EarlyStopping\n",
    "from tensorflow.keras.callbacks import ModelCheckpoint\n",
    "\n",
    "early_stopping = tf.keras.callbacks.EarlyStopping(\n",
    "        monitor='val_loss',\n",
    "        patience=10,\n",
    "        restore_best_weights=True\n",
    "    )\n"
   ]
  },
  {
   "cell_type": "code",
   "execution_count": 138,
   "metadata": {},
   "outputs": [],
   "source": [
    "model_checkpoint = ModelCheckpoint(\n",
    "        filepath='best_model.keras',\n",
    "        monitor='val_loss',\n",
    "        save_best_only=True\n",
    "    )\n"
   ]
  },
  {
   "cell_type": "code",
   "execution_count": 139,
   "metadata": {},
   "outputs": [
    {
     "name": "stdout",
     "output_type": "stream",
     "text": [
      "Epoch 1/200\n",
      "229/229 - 1s - 6ms/step - loss: 3490.5586 - mae: 27.2260 - mse: 3489.6575 - val_loss: 5904.2295 - val_mae: 36.2335 - val_mse: 5903.4360\n",
      "Epoch 2/200\n",
      "229/229 - 0s - 1ms/step - loss: 3429.8342 - mae: 26.2935 - mse: 3429.0515 - val_loss: 5214.6328 - val_mae: 25.1492 - val_mse: 5213.8516\n",
      "Epoch 3/200\n",
      "229/229 - 0s - 1ms/step - loss: 3340.1714 - mae: 24.8114 - mse: 3339.3916 - val_loss: 4938.4131 - val_mae: 20.9957 - val_mse: 4937.6333\n",
      "Epoch 4/200\n",
      "229/229 - 0s - 908us/step - loss: 3266.6514 - mae: 23.0757 - mse: 3265.8726 - val_loss: 5213.1069 - val_mae: 25.2658 - val_mse: 5212.3276\n",
      "Epoch 5/200\n",
      "229/229 - 0s - 970us/step - loss: 3155.8711 - mae: 21.6555 - mse: 3155.0901 - val_loss: 4688.6235 - val_mae: 20.3579 - val_mse: 4687.8364\n",
      "Epoch 6/200\n",
      "229/229 - 0s - 900us/step - loss: 3058.9995 - mae: 20.2106 - mse: 3058.2107 - val_loss: 4816.2056 - val_mae: 20.6101 - val_mse: 4815.4141\n",
      "Epoch 7/200\n",
      "229/229 - 0s - 980us/step - loss: 2970.4600 - mae: 19.4311 - mse: 2969.6682 - val_loss: 4605.7656 - val_mae: 21.7097 - val_mse: 4604.9697\n",
      "Epoch 8/200\n",
      "229/229 - 0s - 978us/step - loss: 2856.8140 - mae: 18.9213 - mse: 2856.0166 - val_loss: 4602.7744 - val_mae: 21.8760 - val_mse: 4601.9761\n",
      "Epoch 9/200\n",
      "229/229 - 0s - 878us/step - loss: 2824.1877 - mae: 19.3705 - mse: 2823.3850 - val_loss: 4661.6577 - val_mae: 21.0467 - val_mse: 4660.8496\n",
      "Epoch 10/200\n",
      "229/229 - 0s - 863us/step - loss: 2814.1887 - mae: 19.8858 - mse: 2813.3777 - val_loss: 5043.0186 - val_mae: 22.6320 - val_mse: 5042.2046\n",
      "Epoch 11/200\n",
      "229/229 - 0s - 836us/step - loss: 2771.8281 - mae: 19.9434 - mse: 2771.0144 - val_loss: 4800.5913 - val_mae: 21.4243 - val_mse: 4799.7764\n",
      "Epoch 12/200\n",
      "229/229 - 0s - 856us/step - loss: 2751.4062 - mae: 20.5959 - mse: 2750.5884 - val_loss: 4724.7778 - val_mae: 20.6173 - val_mse: 4723.9595\n",
      "Epoch 13/200\n",
      "229/229 - 0s - 836us/step - loss: 2756.0576 - mae: 20.5717 - mse: 2755.2368 - val_loss: 4825.5303 - val_mae: 34.1624 - val_mse: 4824.7085\n",
      "Epoch 14/200\n",
      "229/229 - 0s - 846us/step - loss: 2745.1992 - mae: 21.0969 - mse: 2744.3777 - val_loss: 4702.2466 - val_mae: 30.1616 - val_mse: 4701.4214\n",
      "Epoch 15/200\n",
      "229/229 - 0s - 842us/step - loss: 2752.6348 - mae: 21.1638 - mse: 2751.8047 - val_loss: 4643.8950 - val_mae: 21.6338 - val_mse: 4643.0601\n",
      "Epoch 16/200\n",
      "229/229 - 0s - 892us/step - loss: 2758.9644 - mae: 21.6291 - mse: 2758.1274 - val_loss: 4648.6567 - val_mae: 26.4334 - val_mse: 4647.8169\n",
      "Epoch 17/200\n",
      "229/229 - 0s - 906us/step - loss: 2754.3005 - mae: 21.5094 - mse: 2753.4590 - val_loss: 4634.1152 - val_mae: 21.2049 - val_mse: 4633.2720\n",
      "Epoch 18/200\n",
      "229/229 - 0s - 860us/step - loss: 2740.4009 - mae: 21.8163 - mse: 2739.5569 - val_loss: 4604.9263 - val_mae: 26.8213 - val_mse: 4604.0796\n"
     ]
    }
   ],
   "source": [
    "history = model.fit(\n",
    "        x_train, y_train,\n",
    "        validation_data=(x_test, y_test),\n",
    "        epochs=200,\n",
    "        batch_size=2,  \n",
    "        callbacks=[early_stopping, model_checkpoint],\n",
    "        verbose=2\n",
    ")\n"
   ]
  },
  {
   "cell_type": "code",
   "execution_count": null,
   "metadata": {},
   "outputs": [],
   "source": [
    "model.test"
   ]
  }
 ],
 "metadata": {
  "kernelspec": {
   "display_name": ".venv",
   "language": "python",
   "name": "python3"
  },
  "language_info": {
   "codemirror_mode": {
    "name": "ipython",
    "version": 3
   },
   "file_extension": ".py",
   "mimetype": "text/x-python",
   "name": "python",
   "nbconvert_exporter": "python",
   "pygments_lexer": "ipython3",
   "version": "3.12.7"
  }
 },
 "nbformat": 4,
 "nbformat_minor": 2
}
